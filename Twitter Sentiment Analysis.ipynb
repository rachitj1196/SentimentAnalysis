{
 "cells": [
  {
   "cell_type": "code",
   "execution_count": 11,
   "metadata": {},
   "outputs": [],
   "source": [
    "# This is a sentiment analysis program that parses tweets fetched from twitter using python\n",
    "import tweepy\n",
    "from textblob import TextBlob\n",
    "from wordcloud import wordcloud\n",
    "import pandas as pd\n",
    "import numpy as np\n",
    "import re\n",
    "import matplotlib.pyplot as plt\n",
    "plt.style.use('fivethirtyeight')"
   ]
  },
  {
   "cell_type": "code",
   "execution_count": 13,
   "metadata": {},
   "outputs": [],
   "source": [
    "api_key = \"fFFEWOEw45pbuKEf5Js7kfSV0\"\n",
    "api_secret =\"KnwCx9Mgj2FVpBiTH4NZVd0SuKsW0UAKRSYXEubDetKK3MQwGw\"\n",
    "access_token = \"1267649228815335424-CbZjrmZEmW528Ctc9NviqivnUDXJVM\"\n",
    "access_token_secret = \"JN8xiobMzZIR9q2z2rRsi4MbKVC7bcWOiBgMdVTNzsMPg\"\n",
    "\n",
    "authenticate=tweepy.OAuthHandler(api_key, api_secret)"
   ]
  },
  {
   "cell_type": "code",
   "execution_count": 14,
   "metadata": {},
   "outputs": [],
   "source": [
    "authenticate.set_access_token(access_token, access_token_secret)"
   ]
  },
  {
   "cell_type": "code",
   "execution_count": 15,
   "metadata": {},
   "outputs": [],
   "source": [
    "api=tweepy.API(authenticate,wait_on_rate_limit=True)"
   ]
  },
  {
   "cell_type": "code",
   "execution_count": 21,
   "metadata": {},
   "outputs": [
    {
     "name": "stdout",
     "output_type": "stream",
     "text": [
      "show 5 recent tweets: \n",
      "\n",
      "1) I look forward to working with the new administration and leaders on both sides in Congress on getting the surging pandemic under control, engaging partners around the world on issues like poverty and climate change, and addressing issues of inequality and opportunity at home.\n",
      "\n",
      "2) Congratulations to President-Elect Biden and Vice President-Elect Harris. Thank you to the election officials and campaign workers who worked tirelessly to ensure a record number of Americans could cast a ballot and have it counted during such an challenging time for our country.\n",
      "\n",
      "3) Here in Washington, we always vote by mail. It's a safe and secure way to shape the future of our country. But regardless of whether you vote by mail or in person this year, I hope you plan to make your voice heard. Visit https://t.co/TmsHAC9MGv for more information.\n",
      "\n",
      "4) @MohamedBinZayed The UAE is an essential partner in stopping polio in Pakistan. Thank you @MohamedBinZayed for your continued commitment to polio eradication.\n",
      "\n",
      "5) For decades, @Rotary has worked tirelessly to #EndPolio. Today, the health infrastructure they’ve built around the world is supporting the COVID-19 response. #WorldPolioDay https://t.co/67liH7akNH\n",
      "\n"
     ]
    }
   ],
   "source": [
    "# Extract 100 tweets from twitter user\n",
    "posts=api.user_timeline(screen_name='BillGates',count=100,lang='en', tweet_mode='extended')\n",
    "\n",
    "i=1\n",
    "print('show 5 recent tweets: \\n')\n",
    "for tweet in posts[0:5]:\n",
    "    print(str(i) + ') ' + tweet.full_text + '\\n')\n",
    "    i+=1"
   ]
  },
  {
   "cell_type": "code",
   "execution_count": 22,
   "metadata": {},
   "outputs": [
    {
     "data": {
      "text/html": [
       "<div>\n",
       "<style scoped>\n",
       "    .dataframe tbody tr th:only-of-type {\n",
       "        vertical-align: middle;\n",
       "    }\n",
       "\n",
       "    .dataframe tbody tr th {\n",
       "        vertical-align: top;\n",
       "    }\n",
       "\n",
       "    .dataframe thead th {\n",
       "        text-align: right;\n",
       "    }\n",
       "</style>\n",
       "<table border=\"1\" class=\"dataframe\">\n",
       "  <thead>\n",
       "    <tr style=\"text-align: right;\">\n",
       "      <th></th>\n",
       "      <th>Tweets</th>\n",
       "    </tr>\n",
       "  </thead>\n",
       "  <tbody>\n",
       "    <tr>\n",
       "      <th>0</th>\n",
       "      <td>I look forward to working with the new adminis...</td>\n",
       "    </tr>\n",
       "    <tr>\n",
       "      <th>1</th>\n",
       "      <td>Congratulations to President-Elect Biden and V...</td>\n",
       "    </tr>\n",
       "    <tr>\n",
       "      <th>2</th>\n",
       "      <td>Here in Washington, we always vote by mail. It...</td>\n",
       "    </tr>\n",
       "    <tr>\n",
       "      <th>3</th>\n",
       "      <td>@MohamedBinZayed The UAE is an essential partn...</td>\n",
       "    </tr>\n",
       "    <tr>\n",
       "      <th>4</th>\n",
       "      <td>For decades, @Rotary has worked tirelessly to ...</td>\n",
       "    </tr>\n",
       "  </tbody>\n",
       "</table>\n",
       "</div>"
      ],
      "text/plain": [
       "                                              Tweets\n",
       "0  I look forward to working with the new adminis...\n",
       "1  Congratulations to President-Elect Biden and V...\n",
       "2  Here in Washington, we always vote by mail. It...\n",
       "3  @MohamedBinZayed The UAE is an essential partn...\n",
       "4  For decades, @Rotary has worked tirelessly to ..."
      ]
     },
     "execution_count": 22,
     "metadata": {},
     "output_type": "execute_result"
    }
   ],
   "source": [
    "#create a dataframe with a column called tweets\n",
    "df=pd.DataFrame([tweet.full_text for tweet in posts], columns=['Tweets'])\n",
    "\n",
    "df.head()"
   ]
  },
  {
   "cell_type": "code",
   "execution_count": 25,
   "metadata": {},
   "outputs": [
    {
     "data": {
      "text/html": [
       "<div>\n",
       "<style scoped>\n",
       "    .dataframe tbody tr th:only-of-type {\n",
       "        vertical-align: middle;\n",
       "    }\n",
       "\n",
       "    .dataframe tbody tr th {\n",
       "        vertical-align: top;\n",
       "    }\n",
       "\n",
       "    .dataframe thead th {\n",
       "        text-align: right;\n",
       "    }\n",
       "</style>\n",
       "<table border=\"1\" class=\"dataframe\">\n",
       "  <thead>\n",
       "    <tr style=\"text-align: right;\">\n",
       "      <th></th>\n",
       "      <th>Tweets</th>\n",
       "    </tr>\n",
       "  </thead>\n",
       "  <tbody>\n",
       "    <tr>\n",
       "      <th>0</th>\n",
       "      <td>I look forward to working with the new adminis...</td>\n",
       "    </tr>\n",
       "    <tr>\n",
       "      <th>1</th>\n",
       "      <td>Congratulations to President-Elect Biden and V...</td>\n",
       "    </tr>\n",
       "    <tr>\n",
       "      <th>2</th>\n",
       "      <td>Here in Washington, we always vote by mail. It...</td>\n",
       "    </tr>\n",
       "    <tr>\n",
       "      <th>3</th>\n",
       "      <td>The UAE is an essential partner in stopping p...</td>\n",
       "    </tr>\n",
       "    <tr>\n",
       "      <th>4</th>\n",
       "      <td>For decades,  has worked tirelessly to EndPoli...</td>\n",
       "    </tr>\n",
       "    <tr>\n",
       "      <th>...</th>\n",
       "      <td>...</td>\n",
       "    </tr>\n",
       "    <tr>\n",
       "      <th>95</th>\n",
       "      <td>Most of my conversations these days are about ...</td>\n",
       "    </tr>\n",
       "    <tr>\n",
       "      <th>96</th>\n",
       "      <td>Thank you for the conversation and partnersh...</td>\n",
       "    </tr>\n",
       "    <tr>\n",
       "      <th>97</th>\n",
       "      <td>I’m hopeful that this program will improve our...</td>\n",
       "    </tr>\n",
       "    <tr>\n",
       "      <th>98</th>\n",
       "      <td>: When will America be able to get back to wor...</td>\n",
       "    </tr>\n",
       "    <tr>\n",
       "      <th>99</th>\n",
       "      <td>Class of 2020, these are not easy times. But w...</td>\n",
       "    </tr>\n",
       "  </tbody>\n",
       "</table>\n",
       "<p>100 rows × 1 columns</p>\n",
       "</div>"
      ],
      "text/plain": [
       "                                               Tweets\n",
       "0   I look forward to working with the new adminis...\n",
       "1   Congratulations to President-Elect Biden and V...\n",
       "2   Here in Washington, we always vote by mail. It...\n",
       "3    The UAE is an essential partner in stopping p...\n",
       "4   For decades,  has worked tirelessly to EndPoli...\n",
       "..                                                ...\n",
       "95  Most of my conversations these days are about ...\n",
       "96    Thank you for the conversation and partnersh...\n",
       "97  I’m hopeful that this program will improve our...\n",
       "98  : When will America be able to get back to wor...\n",
       "99  Class of 2020, these are not easy times. But w...\n",
       "\n",
       "[100 rows x 1 columns]"
      ]
     },
     "execution_count": 25,
     "metadata": {},
     "output_type": "execute_result"
    }
   ],
   "source": [
    "# Data Cleaning\n",
    "# create a function to clean tweets\n",
    "def cleantxt(text):\n",
    "    text=re.sub(r'@[A-Za-z0-9]+', '', text) \n",
    "    text=re.sub(r'#', '', text)\n",
    "    text=re.sub(r'RT[\\s]+', '', text)\n",
    "    text=re.sub(r'https?:\\/\\/\\S+', '',text)\n",
    "    return text\n",
    "\n",
    "df['Tweets']=df['Tweets'].apply(cleantxt)\n",
    "\n",
    "df\n",
    "\n"
   ]
  },
  {
   "cell_type": "code",
   "execution_count": 29,
   "metadata": {},
   "outputs": [
    {
     "data": {
      "text/html": [
       "<div>\n",
       "<style scoped>\n",
       "    .dataframe tbody tr th:only-of-type {\n",
       "        vertical-align: middle;\n",
       "    }\n",
       "\n",
       "    .dataframe tbody tr th {\n",
       "        vertical-align: top;\n",
       "    }\n",
       "\n",
       "    .dataframe thead th {\n",
       "        text-align: right;\n",
       "    }\n",
       "</style>\n",
       "<table border=\"1\" class=\"dataframe\">\n",
       "  <thead>\n",
       "    <tr style=\"text-align: right;\">\n",
       "      <th></th>\n",
       "      <th>Tweets</th>\n",
       "      <th>Subjectivity</th>\n",
       "      <th>Polarity</th>\n",
       "    </tr>\n",
       "  </thead>\n",
       "  <tbody>\n",
       "    <tr>\n",
       "      <th>0</th>\n",
       "      <td>I look forward to working with the new adminis...</td>\n",
       "      <td>0.577273</td>\n",
       "      <td>0.268182</td>\n",
       "    </tr>\n",
       "    <tr>\n",
       "      <th>1</th>\n",
       "      <td>Congratulations to President-Elect Biden and V...</td>\n",
       "      <td>0.750000</td>\n",
       "      <td>0.250000</td>\n",
       "    </tr>\n",
       "    <tr>\n",
       "      <th>2</th>\n",
       "      <td>Here in Washington, we always vote by mail. It...</td>\n",
       "      <td>0.431250</td>\n",
       "      <td>0.350000</td>\n",
       "    </tr>\n",
       "    <tr>\n",
       "      <th>3</th>\n",
       "      <td>The UAE is an essential partner in stopping p...</td>\n",
       "      <td>0.300000</td>\n",
       "      <td>0.000000</td>\n",
       "    </tr>\n",
       "    <tr>\n",
       "      <th>4</th>\n",
       "      <td>For decades,  has worked tirelessly to EndPoli...</td>\n",
       "      <td>0.250000</td>\n",
       "      <td>0.250000</td>\n",
       "    </tr>\n",
       "  </tbody>\n",
       "</table>\n",
       "</div>"
      ],
      "text/plain": [
       "                                              Tweets  Subjectivity  Polarity\n",
       "0  I look forward to working with the new adminis...      0.577273  0.268182\n",
       "1  Congratulations to President-Elect Biden and V...      0.750000  0.250000\n",
       "2  Here in Washington, we always vote by mail. It...      0.431250  0.350000\n",
       "3   The UAE is an essential partner in stopping p...      0.300000  0.000000\n",
       "4  For decades,  has worked tirelessly to EndPoli...      0.250000  0.250000"
      ]
     },
     "execution_count": 29,
     "metadata": {},
     "output_type": "execute_result"
    }
   ],
   "source": [
    "# create a function to get subjectivity\n",
    "def getsubjectivity(text):\n",
    "    return TextBlob(text).sentiment.subjectivity\n",
    "\n",
    "def getPolarity(text):\n",
    "    return TextBlob(text).sentiment.polarity\n",
    "\n",
    "df['Subjectivity']=df['Tweets'].apply(getsubjectivity)\n",
    "df['Polarity']=df['Tweets'].apply(getPolarity)\n",
    "\n",
    "df.head()"
   ]
  },
  {
   "cell_type": "code",
   "execution_count": 31,
   "metadata": {},
   "outputs": [
    {
     "data": {
      "text/plain": [
       "(100, 3)"
      ]
     },
     "execution_count": 31,
     "metadata": {},
     "output_type": "execute_result"
    }
   ],
   "source": [
    "df.shape"
   ]
  },
  {
   "cell_type": "code",
   "execution_count": 45,
   "metadata": {},
   "outputs": [],
   "source": [
    "# Word Cloud\n",
    "allwords=' '.join( [twts for twts in df['Tweets']])"
   ]
  },
  {
   "cell_type": "code",
   "execution_count": 49,
   "metadata": {},
   "outputs": [],
   "source": [
    "wrdcld=WordCloud(width=500, height=300, random_state=21, max_font_size=119).generate(allwords)"
   ]
  },
  {
   "cell_type": "code",
   "execution_count": 51,
   "metadata": {},
   "outputs": [
    {
     "data": {
      "image/png": "[encoded data removed]",
      "text/plain": [
       "<Figure size 432x288 with 1 Axes>"
      ]
     },
     "metadata": {},
     "output_type": "display_data"
    }
   ],
   "source": [
    "plt.imshow(wrdcld,interpolation='bilinear')\n",
    "plt.axis('off')\n",
    "plt.show()"
   ]
  },
  {
   "cell_type": "code",
   "execution_count": 73,
   "metadata": {},
   "outputs": [
    {
     "data": {
      "text/html": [
       "<div>\n",
       "<style scoped>\n",
       "    .dataframe tbody tr th:only-of-type {\n",
       "        vertical-align: middle;\n",
       "    }\n",
       "\n",
       "    .dataframe tbody tr th {\n",
       "        vertical-align: top;\n",
       "    }\n",
       "\n",
       "    .dataframe thead th {\n",
       "        text-align: right;\n",
       "    }\n",
       "</style>\n",
       "<table border=\"1\" class=\"dataframe\">\n",
       "  <thead>\n",
       "    <tr style=\"text-align: right;\">\n",
       "      <th></th>\n",
       "      <th>Tweets</th>\n",
       "      <th>Subjectivity</th>\n",
       "      <th>Polarity</th>\n",
       "      <th>Analysis</th>\n",
       "    </tr>\n",
       "  </thead>\n",
       "  <tbody>\n",
       "    <tr>\n",
       "      <th>0</th>\n",
       "      <td>I look forward to working with the new adminis...</td>\n",
       "      <td>0.577273</td>\n",
       "      <td>0.268182</td>\n",
       "      <td>Positive</td>\n",
       "    </tr>\n",
       "    <tr>\n",
       "      <th>1</th>\n",
       "      <td>Congratulations to President-Elect Biden and V...</td>\n",
       "      <td>0.750000</td>\n",
       "      <td>0.250000</td>\n",
       "      <td>Positive</td>\n",
       "    </tr>\n",
       "    <tr>\n",
       "      <th>2</th>\n",
       "      <td>Here in Washington, we always vote by mail. It...</td>\n",
       "      <td>0.431250</td>\n",
       "      <td>0.350000</td>\n",
       "      <td>Positive</td>\n",
       "    </tr>\n",
       "    <tr>\n",
       "      <th>3</th>\n",
       "      <td>The UAE is an essential partner in stopping p...</td>\n",
       "      <td>0.300000</td>\n",
       "      <td>0.000000</td>\n",
       "      <td>Neutral</td>\n",
       "    </tr>\n",
       "    <tr>\n",
       "      <th>4</th>\n",
       "      <td>For decades,  has worked tirelessly to EndPoli...</td>\n",
       "      <td>0.250000</td>\n",
       "      <td>0.250000</td>\n",
       "      <td>Positive</td>\n",
       "    </tr>\n",
       "    <tr>\n",
       "      <th>5</th>\n",
       "      <td>: Even with his busy schedule, Dr. Fauci took ...</td>\n",
       "      <td>0.294444</td>\n",
       "      <td>-0.027778</td>\n",
       "      <td>Negative</td>\n",
       "    </tr>\n",
       "    <tr>\n",
       "      <th>6</th>\n",
       "      <td>I’ve been working for some time on a book abou...</td>\n",
       "      <td>0.375000</td>\n",
       "      <td>0.187500</td>\n",
       "      <td>Positive</td>\n",
       "    </tr>\n",
       "    <tr>\n",
       "      <th>7</th>\n",
       "      <td>It’s inspiring to see so much passion these da...</td>\n",
       "      <td>0.650000</td>\n",
       "      <td>0.316667</td>\n",
       "      <td>Positive</td>\n",
       "    </tr>\n",
       "    <tr>\n",
       "      <th>8</th>\n",
       "      <td>India’s research and manufacturing capacity ar...</td>\n",
       "      <td>0.900000</td>\n",
       "      <td>0.250000</td>\n",
       "      <td>Positive</td>\n",
       "    </tr>\n",
       "    <tr>\n",
       "      <th>9</th>\n",
       "      <td>Europe has an opportunity to get its economy b...</td>\n",
       "      <td>0.400000</td>\n",
       "      <td>0.300000</td>\n",
       "      <td>Positive</td>\n",
       "    </tr>\n",
       "    <tr>\n",
       "      <th>10</th>\n",
       "      <td>The COVID-19 pandemic has set back efforts to ...</td>\n",
       "      <td>0.000000</td>\n",
       "      <td>0.000000</td>\n",
       "      <td>Neutral</td>\n",
       "    </tr>\n",
       "    <tr>\n",
       "      <th>11</th>\n",
       "      <td>.’s work in the community is as inspiring as h...</td>\n",
       "      <td>0.625000</td>\n",
       "      <td>0.425000</td>\n",
       "      <td>Positive</td>\n",
       "    </tr>\n",
       "    <tr>\n",
       "      <th>12</th>\n",
       "      <td>Dr. Tunji Funsho’s work with  was essential in...</td>\n",
       "      <td>0.350000</td>\n",
       "      <td>0.050000</td>\n",
       "      <td>Positive</td>\n",
       "    </tr>\n",
       "    <tr>\n",
       "      <th>13</th>\n",
       "      <td>This honor is well deserved. COVID-19 is not j...</td>\n",
       "      <td>0.000000</td>\n",
       "      <td>0.000000</td>\n",
       "      <td>Neutral</td>\n",
       "    </tr>\n",
       "    <tr>\n",
       "      <th>14</th>\n",
       "      <td>For the last 25 years, Dr. Firdausi Qadri, an ...</td>\n",
       "      <td>0.345833</td>\n",
       "      <td>0.000000</td>\n",
       "      <td>Neutral</td>\n",
       "    </tr>\n",
       "    <tr>\n",
       "      <th>15</th>\n",
       "      <td>I’m excited to see this kind of innovation. De...</td>\n",
       "      <td>0.737500</td>\n",
       "      <td>0.243750</td>\n",
       "      <td>Positive</td>\n",
       "    </tr>\n",
       "    <tr>\n",
       "      <th>16</th>\n",
       "      <td>The only way to eliminate the threat of COVID-...</td>\n",
       "      <td>0.872222</td>\n",
       "      <td>0.150000</td>\n",
       "      <td>Positive</td>\n",
       "    </tr>\n",
       "    <tr>\n",
       "      <th>17</th>\n",
       "      <td>Understanding this concept can help us measure...</td>\n",
       "      <td>0.100000</td>\n",
       "      <td>0.100000</td>\n",
       "      <td>Positive</td>\n",
       "    </tr>\n",
       "    <tr>\n",
       "      <th>18</th>\n",
       "      <td>Developing and manufacturing vaccines won’t en...</td>\n",
       "      <td>0.433333</td>\n",
       "      <td>0.111111</td>\n",
       "      <td>Positive</td>\n",
       "    </tr>\n",
       "    <tr>\n",
       "      <th>19</th>\n",
       "      <td>Great to see the UK commit vital funding to en...</td>\n",
       "      <td>0.418750</td>\n",
       "      <td>0.325000</td>\n",
       "      <td>Positive</td>\n",
       "    </tr>\n",
       "  </tbody>\n",
       "</table>\n",
       "</div>"
      ],
      "text/plain": [
       "                                               Tweets  Subjectivity  Polarity  \\\n",
       "0   I look forward to working with the new adminis...      0.577273  0.268182   \n",
       "1   Congratulations to President-Elect Biden and V...      0.750000  0.250000   \n",
       "2   Here in Washington, we always vote by mail. It...      0.431250  0.350000   \n",
       "3    The UAE is an essential partner in stopping p...      0.300000  0.000000   \n",
       "4   For decades,  has worked tirelessly to EndPoli...      0.250000  0.250000   \n",
       "5   : Even with his busy schedule, Dr. Fauci took ...      0.294444 -0.027778   \n",
       "6   I’ve been working for some time on a book abou...      0.375000  0.187500   \n",
       "7   It’s inspiring to see so much passion these da...      0.650000  0.316667   \n",
       "8   India’s research and manufacturing capacity ar...      0.900000  0.250000   \n",
       "9   Europe has an opportunity to get its economy b...      0.400000  0.300000   \n",
       "10  The COVID-19 pandemic has set back efforts to ...      0.000000  0.000000   \n",
       "11  .’s work in the community is as inspiring as h...      0.625000  0.425000   \n",
       "12  Dr. Tunji Funsho’s work with  was essential in...      0.350000  0.050000   \n",
       "13  This honor is well deserved. COVID-19 is not j...      0.000000  0.000000   \n",
       "14  For the last 25 years, Dr. Firdausi Qadri, an ...      0.345833  0.000000   \n",
       "15  I’m excited to see this kind of innovation. De...      0.737500  0.243750   \n",
       "16  The only way to eliminate the threat of COVID-...      0.872222  0.150000   \n",
       "17  Understanding this concept can help us measure...      0.100000  0.100000   \n",
       "18  Developing and manufacturing vaccines won’t en...      0.433333  0.111111   \n",
       "19  Great to see the UK commit vital funding to en...      0.418750  0.325000   \n",
       "\n",
       "    Analysis  \n",
       "0   Positive  \n",
       "1   Positive  \n",
       "2   Positive  \n",
       "3    Neutral  \n",
       "4   Positive  \n",
       "5   Negative  \n",
       "6   Positive  \n",
       "7   Positive  \n",
       "8   Positive  \n",
       "9   Positive  \n",
       "10   Neutral  \n",
       "11  Positive  \n",
       "12  Positive  \n",
       "13   Neutral  \n",
       "14   Neutral  \n",
       "15  Positive  \n",
       "16  Positive  \n",
       "17  Positive  \n",
       "18  Positive  \n",
       "19  Positive  "
      ]
     },
     "execution_count": 73,
     "metadata": {},
     "output_type": "execute_result"
    }
   ],
   "source": [
    "# Function to compute negative, neutral and positive analysis\n",
    "def getAnalysis(score):\n",
    "    if score<0:\n",
    "        return 'Negative'\n",
    "    elif score==0:\n",
    "        return 'Neutral'\n",
    "    else:\n",
    "        return 'Positive'\n",
    "df['Analysis']=df['Polarity'].apply(getAnalysis)\n",
    "\n",
    "df.head(20)"
   ]
  },
  {
   "cell_type": "code",
   "execution_count": 61,
   "metadata": {},
   "outputs": [
    {
     "name": "stdout",
     "output_type": "stream",
     "text": [
      "1)I look forward to working with the new administration and leaders on both sides in Congress on getting the surging pandemic under control, engaging partners around the world on issues like poverty and climate change, and addressing issues of inequality and opportunity at home.\n",
      "\n",
      "2)Congratulations to President-Elect Biden and Vice President-Elect Harris. Thank you to the election officials and campaign workers who worked tirelessly to ensure a record number of Americans could cast a ballot and have it counted during such an challenging time for our country.\n",
      "\n",
      "3)Here in Washington, we always vote by mail. It's a safe and secure way to shape the future of our country. But regardless of whether you vote by mail or in person this year, I hope you plan to make your voice heard. Visit  for more information.\n",
      "\n",
      "4)For decades,  has worked tirelessly to EndPolio. Today, the health infrastructure they’ve built around the world is supporting the COVID-19 response. WorldPolioDay \n",
      "\n",
      "5)I’ve been working for some time on a book about what we need to do over the next decade to avoid a climate disaster. I’m excited that it will be published on February 16. \n",
      "\n",
      "6)It’s inspiring to see so much passion these days for dealing with climate change, and to know that the world has set some ambitious goals for solving it. What we need now are practical plans to reach those goals.\n",
      "\n",
      "7)India’s research and manufacturing capacity are critical for fighting COVID-19. Thank you  for speaking at today’s Grand Challenges meeting.  \n",
      "\n",
      "8)Europe has an opportunity to get its economy back on track in a way that creates good jobs and reinforces its global climate leadership. Here are 55 ideas on how Europe can develop and scale up the innovative technologies we'll need to reach net-zero. \n",
      "\n",
      "9).’s work in the community is as inspiring as his amazing record on the basketball court. I really appreciated the thoughtful conversation. \n",
      "\n",
      "10)Dr. Tunji Funsho’s work with  was essential in stopping wild polio in Africa and will help create a polio-free world for all. A well-deserved recognition. \n",
      "\n",
      "11)I’m excited to see this kind of innovation. Detecting and predicting outbreaks earlier is critical to preventing epidemics. \n",
      "\n",
      "12)The only way to eliminate the threat of COVID-19 somewhere is to eliminate it everywhere. By making sure poor countries are equipped to stop this disease, wealthy countries will help themselves and bring this crisis to an end sooner. \n",
      "\n",
      "13)Understanding this concept can help us measure our progress toward eliminating carbon emissions and serve as a guide to action. \n",
      "\n",
      "14)Developing and manufacturing vaccines won’t end the pandemic quickly unless we also deliver them equitably. Here is why it’s critical that vaccines are distributed in proportion to the global population:  \n",
      "\n",
      "15)Great to see the UK commit vital funding to ensure COVID-19 vaccines are available for the world’s poorest people. PM 's plan will improve the way we prepare for future crises like this. \n",
      "\n",
      "16)After 20 years of stunning advances toward global goals to improve health and reduce poverty, the COVID-19 pandemic stopped progress in its tracks. In our foundation’s Goalkeepers report, we survey the damage and discuss how to start reversing it. \n",
      "\n",
      "17)Dr. John Nkengasong is a true Goalkeeper. His leadership will help ensure Africa has the tools it needs to fight COVID-19:  \n",
      "\n",
      "18)Justice Ginsburg was a trailblazer who devoted her entire career to fighting for equal justice for women, because she knew it would improve life for everyone. America is a better place because of her service. I am inspired by her life and legacy. \n",
      "\n",
      "19)My dad was the “real” Bill Gates. He was everything I try to be and I will miss him every day.\n",
      "\n",
      "\n",
      "\n",
      "20)Thank you to the heroes everywhere working to keep us safe. I hope their stories inspire you just as much as they have me:  \n",
      "\n",
      "21)These heroes represent the best of who we can be. Their efforts to solve the world’s challenges demonstrate our values as a society and they serve as powerful examples of how to make a positive difference in the world. \n",
      "\n",
      "22): Some countries responded successfully to the pandemic – and more broadly, some are much more successful in protecting t…\n",
      "\n",
      "23)Clinical trials are critical to helping researchers better understand Alzheimer's. Improving how we identify and enroll participants in those trials will accelerate progress on diagnosing and treating the disease. \n",
      "\n",
      "24)I tackle every big new problem by asking two questions: Who has dealt with this problem well? And what can we learn from them?  will help to fill the gap in global health knowledge sharing and to accelerate progress in saving lives. \n",
      "\n",
      "25)Of all the things I’ve learned from Warren Buffett (and there have been a lot), the most important might be what friendship is all about. Here’s why he’s a person that I admire as well as like: \n",
      "\n",
      "26)Happy 90th birthday, Warren! \n",
      "\n",
      "27)., thank you for making the world a healthier and more equitable place. Your understanding of how we can improve global prosperity, through support of organizations like , has been truly inspiring. Please now go take care of your own health.\n",
      "\n",
      "28): 6 months ago, Africa confirmed its first case of COVID19. Since then, there have been 1 million cases, affecting every country on…\n",
      "\n",
      "29)If we’re going to address climate change, we need to find new ways to do things that don’t release greenhouse gases—including how we move around. \n",
      "\n",
      "30)Today we move one step closer toward a world without polio. This is an incredible milestone that’s worth celebrating. It is also an important reminder of what can be accomplished when we work together toward a common goal. \n",
      "\n",
      "31): Thanks to the commitment of leaders from all 47 countries in the  Region, history was made today: the entire A…\n",
      "\n",
      "32)Mosquito City is home to the world’s largest captive colony of mosquitoes.  Institute is doing fascinating research there about mosquito behaviors and finding ways to outsmart them. \n",
      "\n",
      "33)Deaths from malaria have been cut by more than half since the year 2000. Increased bed net use is one of the main reasons why  WorldMosquitoDay\n",
      "\n",
      "34)Ridding the world of preventable, treatable diseases like malaria will save millions of lives and lead to healthier, more prosperous communities. And that will make them better prepared to confront any new health challenges like COVID-19 in the future.  \n",
      "\n",
      "35)The progress the world has made against malaria is one of the greatest success stories ever. The COVID-19 pandemic only reinforces why eradicating malaria is so essential. \n",
      "\n",
      "36): A safe and effective COVID19 vaccine is the way out of this devastating pandemic🌍\n",
      "\n",
      "Our Director of Vaccine R&amp;D, Melanie…\n",
      "\n",
      "37)Teaching special education takes an amazing person to figure out exactly what works for each child. Talking with Washington State Teacher of the Year Amy Campbell gave me an even greater appreciation for these educators:  \n",
      "\n",
      "38)Our foundation is partnering with  to support teachers as they get ready to go back to school—in whatever form that takes—and will boost your donations to the classroom project of your choice today. \n",
      "\n",
      "39)I always look forward to meeting Washington’s Teacher of the Year. This year’s recipient, Amy Campbell (_MrsCampbell), is a remarkable advocate for her students, and I loved learning about her approach to teaching special ed. \n",
      "\n",
      "40)The world did not do enough to prepare for a pandemic. We can avoid making the same mistake with climate change by:\n",
      "\n",
      "1. Letting science and innovation lead the way\n",
      "2. Making sure solutions work for poor countries too\n",
      "3. Getting started now\n",
      "\n",
      "\n",
      "\n",
      "41)Great tips from _Bergstrom about how to find reliable sources of information and test claims you may see about the pandemic in your social media feeds. \n",
      "\n",
      "42)The impacts of COVID-19 are driving worrying increases in malnutrition and health outcomes. However, there are clear actions that can be taken in both the near- and long-term. \n",
      "\n",
      "43)In these challenging times, we can’t lose sight of the importance of combatting climate change. I’m excited to hear about how companies like  are finding a way to play a role. \n",
      "\n",
      "44)It’s important that we continue to follow scientific data as we look for new tools to aid in the fight against coronavirus.  \n",
      "\n",
      "45)It’s hard to overstate how important finding a reliable, affordable, and easy-to-use diagnostic is for stopping Alzheimer’s. This is a big step towards that goal. \n",
      "\n",
      "46)\"Our best strategy in the age-old fight against the germs is our collaborative, data-based effort to study the world around us and within us. Our best strategy is science.\"  explains how vaccines have dramatically improved humanity’s ability to fight infectious disease. \n",
      "\n",
      "47): Not many of us get to live to see our own legacy play out in such a meaningful, remarkable way. John Lewis did:\n",
      "\n",
      "\n",
      "\n",
      "48)This is a great loss for America, and for everyone who believes in making the world a more just place. John Lewis not only saw that our country could be better--he never stopped working to make it that way. We need leaders like him more than ever. \n",
      "\n",
      "49): Decision-makers can take steps right now to make sure the world recovers from this pandemic stronger, more prepared &amp; mor…\n",
      "\n",
      "50)This hero is playing a critical role in Kenya’s preparations to tackle COVID-19 by scaling up medical oxygen supplies that will be needed to keep the most critically ill patients alive. \n",
      "\n",
      "51): Happy Juneteenth fam! My latest for the . Find joy today! The images from the article alone are giving me l…\n",
      "\n",
      "52): Proud to share my thoughts in ’s “injustice issue” on (and for) our beloved young people I call the TrayvonGene…\n",
      "\n",
      "53)I am committed to listening and learning more about systemic racism and what I can do with my actions and words to help create a more equal and just future. Black lives matter.\n",
      "\n",
      "54): Today world leaders pledged to fully support ’s mission to give more children access to lifesaving vaccines and b…\n",
      "\n",
      "55)I continue to be inspired by all of the volunteers (including many retired health care workers and teachers) on the front lines of the fight against coronavirus each day. \n",
      "\n",
      "56)Here are five books to read this summer if you want to learn more about pandemics or are looking for a distraction:  \n",
      "\n",
      "57)Melinda recommended that I read The Choice, and I’m glad she did. I think many people will find comfort right now from Dr. Edith Eva Eger's suggestions on how to handle difficult situations. \n",
      "\n",
      "58)Today is RedNoseDay. Their work has made an incredible impact to reduce child poverty in the US and around the world. \n",
      "\n",
      "59)The 1918 influenza outbreak is the closest comparison to what we’re living through right now. John Barry does a great job explaining the realities and lessons of that devastating pandemic. \n",
      "\n",
      "60)Most of my conversations these days are about COVID-19 and how we can stem the tide, but I’m also often asked about what I am reading and watching. Here are my 2020 summer book recommendations (plus a few other ideas for things to do at home). \n",
      "\n",
      "61)  Thank you for the conversation and partnership, . Combating the pandemic requires global collaboration. India’s role is key as the world works to minimize social and economic impact, and pave the way to vaccine, testing, and treatment access for all. \n",
      "\n",
      "62): When will America be able to get back to work? \n",
      "\n",
      "The answer depends on whether workers have caregiving options they can r…\n",
      "\n"
     ]
    }
   ],
   "source": [
    "# Print all positive tweets\n",
    "j=1\n",
    "sortedDF=df.sort_values(by=['Polarity'])\n",
    "for i in range(0,sortedDF.shape[0]):\n",
    "    if (sortedDF['Analysis'][i]=='Positive'):\n",
    "        print(str(j)+')'+sortedDF['Tweets'][i])\n",
    "        j=j+1\n",
    "        print()"
   ]
  },
  {
   "cell_type": "code",
   "execution_count": 74,
   "metadata": {},
   "outputs": [
    {
     "name": "stdout",
     "output_type": "stream",
     "text": [
      "1): Even with his busy schedule, Dr. Fauci took the time to sit down with me (AGAIN) and talk about what we’ve gotten right…\n",
      "\n",
      "2): What do COVID-19 and malaria have to do with each other?  \n",
      "\n",
      "When COVID-19 struck, it disrupted the entire global healt…\n",
      "\n",
      "3)To prevent the worst effects of climate change, we need innovation across all sectors—especially in the hardest to decarbonize sectors—to get us on a viable path to net-zero emissions. \n",
      "\n",
      "4)Because of long-standing barriers that are made worse by COVID-19, hundreds of thousands of students with promise may never start college. This would be disastrous for these young people and for the country. Here’s what we’re doing to help: \n",
      "\n",
      "5): Three lessons that have been central to the COVID19 response in South Africa, Liberia, &amp; other countries:\n",
      "🔸 Screening…\n",
      "\n",
      "6)Globally, a lack of medical oxygen–needed to treat pneumonia, malaria, and other diseases–leads to hundreds of thousands of deaths each year.  founded _Tele to address this often-overlooked challenge. \n",
      "\n",
      "7): “It’s that clarity of language about the VALUE of black life in America that distinguishes Juneteenth as emancipation…\n",
      "\n",
      "8): “Only those feigning blindness fail to see the body of work we are, and the work of body we have done. \n",
      "\n",
      "Everything is what it is…\n",
      "\n",
      "9): Juneteenth recognizes &amp; celebrates Black people’s freedom and the end of slavery in the US!  19 Jun 1865 Union Army Genera…\n",
      "\n",
      "10)_Nyongo: 1. This is Opal Lee, the force behind the movement to make Juneteenth a national holiday. Also known as Freedom Day, it…\n",
      "\n",
      "11)…in policing, criminal justice, education, health care, housing, the workplace and all other areas of their lives.\n",
      "\n",
      "12)The horrifying killings of George Floyd, Ahmaud Arbery, Breonna Taylor and far too many other Black people—and the protests they sparked—are shining a light on the brutal injustices that Black people experience every day…\n",
      "\n",
      "13): The video of George Floyd’s brutal death broke my heart. I’ve watched the protests that followed and have felt overwhelme…\n",
      "\n",
      "14)I’m hopeful that this program will improve our understanding of the coronavirus outbreak in Seattle and provide valuable information about the virus for other communities around the world. \n",
      "\n",
      "15)Class of 2020, these are not easy times. But we will get through them. And with your leadership, the world will be stronger than before. \n",
      "\n"
     ]
    }
   ],
   "source": [
    "# Print negative tweets\n",
    "j=1\n",
    "sortedDF=df.sort_values(by=['Polarity'],ascending='False')\n",
    "for i in range(0,sortedDF.shape[0]):\n",
    "    if(sortedDF['Analysis'][i]=='Negative'):\n",
    "        print(str(j) + ')' + sortedDF['Tweets'][i])\n",
    "        print()\n",
    "        j=j+1 "
   ]
  },
  {
   "cell_type": "code",
   "execution_count": 75,
   "metadata": {},
   "outputs": [
    {
     "data": {
      "image/png": "[encoded data removed]",
      "text/plain": [
       "<Figure size 576x432 with 1 Axes>"
      ]
     },
     "metadata": {},
     "output_type": "display_data"
    }
   ],
   "source": [
    "# Plot polarity and subjectivity\n",
    "plt.figure(figsize=(8,6))\n",
    "for i in range(0,df.shape[0]):\n",
    "    plt.scatter(df['Polarity'][i],df['Subjectivity'][i], color='Blue')\n",
    "    \n",
    "plt.title('Sentiment Analysis')\n",
    "plt.xlabel('Polarity')\n",
    "plt.ylabel('Subjectivity')\n",
    "plt.show()"
   ]
  },
  {
   "cell_type": "code",
   "execution_count": 69,
   "metadata": {},
   "outputs": [
    {
     "data": {
      "text/plain": [
       "62.0"
      ]
     },
     "execution_count": 69,
     "metadata": {},
     "output_type": "execute_result"
    }
   ],
   "source": [
    "# Get percentage of positive tweets\n",
    "ptweets = df[df.Analysis=='Positive']\n",
    "ptweets=ptweets['Tweets']\n",
    "\n",
    "round((ptweets.shape[0]/df.shape[0])*100,1)"
   ]
  },
  {
   "cell_type": "code",
   "execution_count": 79,
   "metadata": {},
   "outputs": [
    {
     "data": {
      "text/plain": [
       "23.0"
      ]
     },
     "execution_count": 79,
     "metadata": {},
     "output_type": "execute_result"
    }
   ],
   "source": [
    "# Get percentage of neutral tweets\n",
    "ntweets = df[df.Analysis=='Neutral']\n",
    "ntweets=ntweets['Tweets']\n",
    "\n",
    "round((ntweets.shape[0]/df.shape[0])*100,1)"
   ]
  },
  {
   "cell_type": "code",
   "execution_count": 78,
   "metadata": {},
   "outputs": [
    {
     "data": {
      "text/plain": [
       "15.0"
      ]
     },
     "execution_count": 78,
     "metadata": {},
     "output_type": "execute_result"
    }
   ],
   "source": [
    "# Get percentage of negative tweets\n",
    "negtweets = df[df.Analysis=='Negative']\n",
    "negtweets=negtweets['Tweets']\n",
    "\n",
    "round((negtweets.shape[0]/df.shape[0])*100,1)"
   ]
  },
  {
   "cell_type": "code",
   "execution_count": 80,
   "metadata": {},
   "outputs": [
    {
     "data": {
      "image/png": "[encoded data removed]",
      "text/plain": [
       "<Figure size 432x288 with 1 Axes>"
      ]
     },
     "metadata": {},
     "output_type": "display_data"
    }
   ],
   "source": [
    "# Show Value Counts\n",
    "df['Analysis'].value_counts()\n",
    "\n",
    "plt.title('Sentiment Analysis')\n",
    "plt.xlabel('Sentiment')\n",
    "plt.ylabel('Counts')\n",
    "df['Analysis'].value_counts().plot(kind='bar')\n",
    "plt.show()"
   ]
  },
  {
   "cell_type": "code",
   "execution_count": null,
   "metadata": {},
   "outputs": [],
   "source": []
  },
  {
   "cell_type": "code",
   "execution_count": null,
   "metadata": {},
   "outputs": [],
   "source": []
  },
  {
   "cell_type": "code",
   "execution_count": null,
   "metadata": {},
   "outputs": [],
   "source": []
  },
  {
   "cell_type": "code",
   "execution_count": null,
   "metadata": {},
   "outputs": [],
   "source": []
  },
  {
   "cell_type": "code",
   "execution_count": null,
   "metadata": {},
   "outputs": [],
   "source": []
  },
  {
   "cell_type": "code",
   "execution_count": null,
   "metadata": {},
   "outputs": [],
   "source": []
  },
  {
   "cell_type": "code",
   "execution_count": null,
   "metadata": {},
   "outputs": [],
   "source": []
  },
  {
   "cell_type": "code",
   "execution_count": null,
   "metadata": {},
   "outputs": [],
   "source": []
  },
  {
   "cell_type": "code",
   "execution_count": null,
   "metadata": {},
   "outputs": [],
   "source": []
  },
  {
   "cell_type": "code",
   "execution_count": null,
   "metadata": {},
   "outputs": [],
   "source": []
  },
  {
   "cell_type": "code",
   "execution_count": null,
   "metadata": {},
   "outputs": [],
   "source": []
  },
  {
   "cell_type": "code",
   "execution_count": null,
   "metadata": {},
   "outputs": [],
   "source": []
  },
  {
   "cell_type": "code",
   "execution_count": null,
   "metadata": {},
   "outputs": [],
   "source": []
  },
  {
   "cell_type": "code",
   "execution_count": null,
   "metadata": {},
   "outputs": [],
   "source": []
  },
  {
   "cell_type": "code",
   "execution_count": null,
   "metadata": {},
   "outputs": [],
   "source": []
  },
  {
   "cell_type": "code",
   "execution_count": null,
   "metadata": {},
   "outputs": [],
   "source": []
  },
  {
   "cell_type": "code",
   "execution_count": null,
   "metadata": {},
   "outputs": [],
   "source": []
  },
  {
   "cell_type": "code",
   "execution_count": null,
   "metadata": {},
   "outputs": [],
   "source": []
  },
  {
   "cell_type": "code",
   "execution_count": null,
   "metadata": {},
   "outputs": [],
   "source": []
  },
  {
   "cell_type": "code",
   "execution_count": null,
   "metadata": {},
   "outputs": [],
   "source": []
  },
  {
   "cell_type": "code",
   "execution_count": null,
   "metadata": {},
   "outputs": [],
   "source": []
  },
  {
   "cell_type": "code",
   "execution_count": null,
   "metadata": {},
   "outputs": [],
   "source": []
  },
  {
   "cell_type": "code",
   "execution_count": null,
   "metadata": {},
   "outputs": [],
   "source": []
  },
  {
   "cell_type": "code",
   "execution_count": null,
   "metadata": {},
   "outputs": [],
   "source": []
  },
  {
   "cell_type": "code",
   "execution_count": null,
   "metadata": {},
   "outputs": [],
   "source": []
  },
  {
   "cell_type": "code",
   "execution_count": null,
   "metadata": {},
   "outputs": [],
   "source": []
  },
  {
   "cell_type": "code",
   "execution_count": null,
   "metadata": {},
   "outputs": [],
   "source": []
  },
  {
   "cell_type": "code",
   "execution_count": null,
   "metadata": {},
   "outputs": [],
   "source": []
  },
  {
   "cell_type": "code",
   "execution_count": null,
   "metadata": {},
   "outputs": [],
   "source": []
  },
  {
   "cell_type": "code",
   "execution_count": null,
   "metadata": {},
   "outputs": [],
   "source": []
  },
  {
   "cell_type": "code",
   "execution_count": null,
   "metadata": {},
   "outputs": [],
   "source": []
  },
  {
   "cell_type": "code",
   "execution_count": null,
   "metadata": {},
   "outputs": [],
   "source": []
  },
  {
   "cell_type": "code",
   "execution_count": null,
   "metadata": {},
   "outputs": [],
   "source": []
  },
  {
   "cell_type": "code",
   "execution_count": null,
   "metadata": {},
   "outputs": [],
   "source": []
  },
  {
   "cell_type": "code",
   "execution_count": null,
   "metadata": {},
   "outputs": [],
   "source": []
  },
  {
   "cell_type": "code",
   "execution_count": null,
   "metadata": {},
   "outputs": [],
   "source": []
  }
 ],
 "metadata": {
  "kernelspec": {
   "display_name": "Python 3",
   "language": "python",
   "name": "python3"
  },
  "language_info": {
   "codemirror_mode": {
    "name": "ipython",
    "version": 3
   },
   "file_extension": ".py",
   "mimetype": "text/x-python",
   "name": "python",
   "nbconvert_exporter": "python",
   "pygments_lexer": "ipython3",
   "version": "3.8.3"
  }
 },
 "nbformat": 4,
 "nbformat_minor": 4
}
